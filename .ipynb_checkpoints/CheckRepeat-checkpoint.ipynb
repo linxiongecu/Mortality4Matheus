{
 "cells": [
  {
   "cell_type": "code",
   "execution_count": 9,
   "id": "405f7efb-c908-4d88-807b-edfaf171b2be",
   "metadata": {},
   "outputs": [],
   "source": [
    "import os\n",
    "os.environ['USE_PYGEOS'] = '0'\n",
    "import geopandas as gpd\n",
    "import h3pandas\n",
    "import pandas as pd"
   ]
  },
  {
   "cell_type": "code",
   "execution_count": 2,
   "id": "3f695f55-12fa-4be7-8680-57adcf94703f",
   "metadata": {},
   "outputs": [
    {
     "data": {
      "text/html": [
       "<div>\n",
       "<style scoped>\n",
       "    .dataframe tbody tr th:only-of-type {\n",
       "        vertical-align: middle;\n",
       "    }\n",
       "\n",
       "    .dataframe tbody tr th {\n",
       "        vertical-align: top;\n",
       "    }\n",
       "\n",
       "    .dataframe thead th {\n",
       "        text-align: right;\n",
       "    }\n",
       "</style>\n",
       "<table border=\"1\" class=\"dataframe\">\n",
       "  <thead>\n",
       "    <tr style=\"text-align: right;\">\n",
       "      <th></th>\n",
       "      <th>rh_098</th>\n",
       "      <th>lon_lowestmode</th>\n",
       "      <th>lat_lowestmode</th>\n",
       "      <th>shot_number</th>\n",
       "      <th>quality_flag</th>\n",
       "      <th>geometry</th>\n",
       "    </tr>\n",
       "    <tr>\n",
       "      <th>h3_13</th>\n",
       "      <th></th>\n",
       "      <th></th>\n",
       "      <th></th>\n",
       "      <th></th>\n",
       "      <th></th>\n",
       "      <th></th>\n",
       "    </tr>\n",
       "  </thead>\n",
       "  <tbody>\n",
       "    <tr>\n",
       "      <th>8d8a0cb64996aff</th>\n",
       "      <td>22.580000</td>\n",
       "      <td>-65.126661</td>\n",
       "      <td>-6.676386</td>\n",
       "      <td>111730300400242382</td>\n",
       "      <td>True</td>\n",
       "      <td>POINT (-65.12666 -6.67639)</td>\n",
       "    </tr>\n",
       "    <tr>\n",
       "      <th>8d8a0cb64d628bf</th>\n",
       "      <td>25.559999</td>\n",
       "      <td>-65.125328</td>\n",
       "      <td>-6.675954</td>\n",
       "      <td>57131100400242443</td>\n",
       "      <td>True</td>\n",
       "      <td>POINT (-65.12533 -6.67595)</td>\n",
       "    </tr>\n",
       "    <tr>\n",
       "      <th>8d8a0cb64d630bf</th>\n",
       "      <td>31.480000</td>\n",
       "      <td>-65.125630</td>\n",
       "      <td>-6.675534</td>\n",
       "      <td>57131100400242442</td>\n",
       "      <td>True</td>\n",
       "      <td>POINT (-65.12563 -6.67553)</td>\n",
       "    </tr>\n",
       "    <tr>\n",
       "      <th>8d8a0cb648aeabf</th>\n",
       "      <td>19.820000</td>\n",
       "      <td>-65.128770</td>\n",
       "      <td>-6.673458</td>\n",
       "      <td>111730300400242375</td>\n",
       "      <td>True</td>\n",
       "      <td>POINT (-65.12877 -6.67346)</td>\n",
       "    </tr>\n",
       "    <tr>\n",
       "      <th>8d8a0cb64c0353f</th>\n",
       "      <td>17.270000</td>\n",
       "      <td>-65.122312</td>\n",
       "      <td>-6.673069</td>\n",
       "      <td>111730200400247690</td>\n",
       "      <td>True</td>\n",
       "      <td>POINT (-65.12231 -6.67307)</td>\n",
       "    </tr>\n",
       "  </tbody>\n",
       "</table>\n",
       "</div>"
      ],
      "text/plain": [
       "                    rh_098  lon_lowestmode  lat_lowestmode  \\\n",
       "h3_13                                                        \n",
       "8d8a0cb64996aff  22.580000      -65.126661       -6.676386   \n",
       "8d8a0cb64d628bf  25.559999      -65.125328       -6.675954   \n",
       "8d8a0cb64d630bf  31.480000      -65.125630       -6.675534   \n",
       "8d8a0cb648aeabf  19.820000      -65.128770       -6.673458   \n",
       "8d8a0cb64c0353f  17.270000      -65.122312       -6.673069   \n",
       "\n",
       "                        shot_number  quality_flag                    geometry  \n",
       "h3_13                                                                          \n",
       "8d8a0cb64996aff  111730300400242382          True  POINT (-65.12666 -6.67639)  \n",
       "8d8a0cb64d628bf   57131100400242443          True  POINT (-65.12533 -6.67595)  \n",
       "8d8a0cb64d630bf   57131100400242442          True  POINT (-65.12563 -6.67553)  \n",
       "8d8a0cb648aeabf  111730300400242375          True  POINT (-65.12877 -6.67346)  \n",
       "8d8a0cb64c0353f  111730200400247690          True  POINT (-65.12231 -6.67307)  "
      ]
     },
     "execution_count": 2,
     "metadata": {},
     "output_type": "execute_result"
    }
   ],
   "source": [
    "gdf = gpd.read_parquet('/gpfs/data1/vclgp/xiongl/MatheusWork/result/gedi_amazon.parquet')\n",
    "gdfh3 = gdf.h3.geo_to_h3(13)\n",
    "gdfh3.head()"
   ]
  },
  {
   "cell_type": "code",
   "execution_count": 3,
   "id": "de6b176f-6a50-453b-b929-48b06b999ca5",
   "metadata": {},
   "outputs": [
    {
     "data": {
      "text/html": [
       "<div>\n",
       "<style scoped>\n",
       "    .dataframe tbody tr th:only-of-type {\n",
       "        vertical-align: middle;\n",
       "    }\n",
       "\n",
       "    .dataframe tbody tr th {\n",
       "        vertical-align: top;\n",
       "    }\n",
       "\n",
       "    .dataframe thead th {\n",
       "        text-align: right;\n",
       "    }\n",
       "</style>\n",
       "<table border=\"1\" class=\"dataframe\">\n",
       "  <thead>\n",
       "    <tr style=\"text-align: right;\">\n",
       "      <th></th>\n",
       "      <th>rh_098</th>\n",
       "      <th>lon_lowestmode</th>\n",
       "      <th>lat_lowestmode</th>\n",
       "      <th>shot_number</th>\n",
       "      <th>quality_flag</th>\n",
       "      <th>geometry</th>\n",
       "    </tr>\n",
       "    <tr>\n",
       "      <th>h3_13</th>\n",
       "      <th></th>\n",
       "      <th></th>\n",
       "      <th></th>\n",
       "      <th></th>\n",
       "      <th></th>\n",
       "      <th></th>\n",
       "    </tr>\n",
       "  </thead>\n",
       "  <tbody>\n",
       "    <tr>\n",
       "      <th>8d8a0cb448193bf</th>\n",
       "      <td>26.240000</td>\n",
       "      <td>-65.108691</td>\n",
       "      <td>-6.617727</td>\n",
       "      <td>146040600400796512</td>\n",
       "      <td>True</td>\n",
       "      <td>POINT (-65.10869 -6.61773)</td>\n",
       "    </tr>\n",
       "    <tr>\n",
       "      <th>8d8a0cb448193bf</th>\n",
       "      <td>25.469999</td>\n",
       "      <td>-65.108674</td>\n",
       "      <td>-6.617703</td>\n",
       "      <td>187750600100244674</td>\n",
       "      <td>True</td>\n",
       "      <td>POINT (-65.10867 -6.61770)</td>\n",
       "    </tr>\n",
       "    <tr>\n",
       "      <th>8d8a0cb4094bd7f</th>\n",
       "      <td>31.940001</td>\n",
       "      <td>-65.110884</td>\n",
       "      <td>-6.596632</td>\n",
       "      <td>146041100400240911</td>\n",
       "      <td>True</td>\n",
       "      <td>POINT (-65.11088 -6.59663)</td>\n",
       "    </tr>\n",
       "    <tr>\n",
       "      <th>8d8a0cb4094bd7f</th>\n",
       "      <td>29.320000</td>\n",
       "      <td>-65.110885</td>\n",
       "      <td>-6.596617</td>\n",
       "      <td>121721100100059955</td>\n",
       "      <td>True</td>\n",
       "      <td>POINT (-65.11088 -6.59662)</td>\n",
       "    </tr>\n",
       "    <tr>\n",
       "      <th>8d8a0cb41d2283f</th>\n",
       "      <td>26.809999</td>\n",
       "      <td>-65.117806</td>\n",
       "      <td>-6.586974</td>\n",
       "      <td>146041100400240888</td>\n",
       "      <td>True</td>\n",
       "      <td>POINT (-65.11781 -6.58697)</td>\n",
       "    </tr>\n",
       "    <tr>\n",
       "      <th>...</th>\n",
       "      <td>...</td>\n",
       "      <td>...</td>\n",
       "      <td>...</td>\n",
       "      <td>...</td>\n",
       "      <td>...</td>\n",
       "      <td>...</td>\n",
       "    </tr>\n",
       "    <tr>\n",
       "      <th>8d8aa869138657f</th>\n",
       "      <td>31.049999</td>\n",
       "      <td>-58.649801</td>\n",
       "      <td>-4.079779</td>\n",
       "      <td>98080600100243441</td>\n",
       "      <td>True</td>\n",
       "      <td>POINT (-58.64980 -4.07978)</td>\n",
       "    </tr>\n",
       "    <tr>\n",
       "      <th>8d8aa869139567f</th>\n",
       "      <td>88.059998</td>\n",
       "      <td>-58.649477</td>\n",
       "      <td>-4.079400</td>\n",
       "      <td>178900500100073209</td>\n",
       "      <td>True</td>\n",
       "      <td>POINT (-58.64948 -4.07940)</td>\n",
       "    </tr>\n",
       "    <tr>\n",
       "      <th>8d8aa869139567f</th>\n",
       "      <td>25.799999</td>\n",
       "      <td>-58.649503</td>\n",
       "      <td>-4.079358</td>\n",
       "      <td>98080600100243442</td>\n",
       "      <td>True</td>\n",
       "      <td>POINT (-58.64950 -4.07936)</td>\n",
       "    </tr>\n",
       "    <tr>\n",
       "      <th>8d8aa86d346c83f</th>\n",
       "      <td>28.020000</td>\n",
       "      <td>-58.754832</td>\n",
       "      <td>-3.985293</td>\n",
       "      <td>31870300100072590</td>\n",
       "      <td>True</td>\n",
       "      <td>POINT (-58.75483 -3.98529)</td>\n",
       "    </tr>\n",
       "    <tr>\n",
       "      <th>8d8aa86d346c83f</th>\n",
       "      <td>30.120001</td>\n",
       "      <td>-58.754827</td>\n",
       "      <td>-3.985289</td>\n",
       "      <td>138870800400288065</td>\n",
       "      <td>True</td>\n",
       "      <td>POINT (-58.75483 -3.98529)</td>\n",
       "    </tr>\n",
       "  </tbody>\n",
       "</table>\n",
       "<p>22022 rows × 6 columns</p>\n",
       "</div>"
      ],
      "text/plain": [
       "                    rh_098  lon_lowestmode  lat_lowestmode  \\\n",
       "h3_13                                                        \n",
       "8d8a0cb448193bf  26.240000      -65.108691       -6.617727   \n",
       "8d8a0cb448193bf  25.469999      -65.108674       -6.617703   \n",
       "8d8a0cb4094bd7f  31.940001      -65.110884       -6.596632   \n",
       "8d8a0cb4094bd7f  29.320000      -65.110885       -6.596617   \n",
       "8d8a0cb41d2283f  26.809999      -65.117806       -6.586974   \n",
       "...                    ...             ...             ...   \n",
       "8d8aa869138657f  31.049999      -58.649801       -4.079779   \n",
       "8d8aa869139567f  88.059998      -58.649477       -4.079400   \n",
       "8d8aa869139567f  25.799999      -58.649503       -4.079358   \n",
       "8d8aa86d346c83f  28.020000      -58.754832       -3.985293   \n",
       "8d8aa86d346c83f  30.120001      -58.754827       -3.985289   \n",
       "\n",
       "                        shot_number  quality_flag                    geometry  \n",
       "h3_13                                                                          \n",
       "8d8a0cb448193bf  146040600400796512          True  POINT (-65.10869 -6.61773)  \n",
       "8d8a0cb448193bf  187750600100244674          True  POINT (-65.10867 -6.61770)  \n",
       "8d8a0cb4094bd7f  146041100400240911          True  POINT (-65.11088 -6.59663)  \n",
       "8d8a0cb4094bd7f  121721100100059955          True  POINT (-65.11088 -6.59662)  \n",
       "8d8a0cb41d2283f  146041100400240888          True  POINT (-65.11781 -6.58697)  \n",
       "...                             ...           ...                         ...  \n",
       "8d8aa869138657f   98080600100243441          True  POINT (-58.64980 -4.07978)  \n",
       "8d8aa869139567f  178900500100073209          True  POINT (-58.64948 -4.07940)  \n",
       "8d8aa869139567f   98080600100243442          True  POINT (-58.64950 -4.07936)  \n",
       "8d8aa86d346c83f   31870300100072590          True  POINT (-58.75483 -3.98529)  \n",
       "8d8aa86d346c83f  138870800400288065          True  POINT (-58.75483 -3.98529)  \n",
       "\n",
       "[22022 rows x 6 columns]"
      ]
     },
     "execution_count": 3,
     "metadata": {},
     "output_type": "execute_result"
    }
   ],
   "source": [
    "# Identify rows with duplicated index\n",
    "duplicated_rows = gdfh3.index.duplicated(keep=False)\n",
    "# Select rows with duplicated index\n",
    "result_df = gdfh3[duplicated_rows]\n",
    "result_df"
   ]
  },
  {
   "cell_type": "code",
   "execution_count": null,
   "id": "e6bd039b-1038-4e46-ad19-2092b77a1ce9",
   "metadata": {},
   "outputs": [],
   "source": [
    "len(result_df)"
   ]
  },
  {
   "cell_type": "code",
   "execution_count": null,
   "id": "b2e85967-39f2-4f85-805f-25330cb0069f",
   "metadata": {},
   "outputs": [],
   "source": [
    "import pandas as pd\n",
    "# Assuming result_df is your DataFrame with duplicated indices\n",
    "# Use the previous example code to get result_df\n",
    "# Group by index and calculate the difference between max and min in each group\n",
    "grouped_result = result_df.groupby(result_df.index)['rh_098'].agg(lambda x: x.max() - x.min())\n",
    "# Display the result\n",
    "grouped_result"
   ]
  },
  {
   "cell_type": "code",
   "execution_count": null,
   "id": "f75aeaa9-3b9f-447d-b3c3-6a7bfbafa9dc",
   "metadata": {},
   "outputs": [],
   "source": [
    "len(grouped_result)"
   ]
  },
  {
   "cell_type": "code",
   "execution_count": 14,
   "id": "7223c3f1-2be8-4ad4-a7eb-c2402f140828",
   "metadata": {},
   "outputs": [
    {
     "name": "stdout",
     "output_type": "stream",
     "text": [
      "Number of files: 92\n",
      "Running time: 56.60898756980896 seconds\n"
     ]
    }
   ],
   "source": [
    "# merge parquet files \n",
    "    # Record the start time\n",
    "import pyarrow.parquet as pq\n",
    "import glob\n",
    "import time\n",
    "import argparse\n",
    "import os\n",
    "start_time = time.time()\n",
    "files = glob.glob('/gpfs/data1/vclgp/xiongl/MatheusWork/result/gedi_amazon_2022/*.parquet')\n",
    "print('Number of files:',len(files))\n",
    "out_parquet='/gpfs/data1/vclgp/xiongl/MatheusWork/result/gedi_amazon_2022.parquet'\n",
    "schema = pq.ParquetFile(files[0]).schema_arrow\n",
    "with pq.ParquetWriter(out_parquet, schema=schema) as writer:\n",
    "    for file in files:\n",
    "        writer.write_table(pq.read_table(file, schema=schema))\n",
    "# Record the end time\n",
    "end_time = time.time()\n",
    "# Calculate the running time\n",
    "running_time = end_time - start_time\n",
    "print(f\"Running time: {running_time} seconds\")"
   ]
  },
  {
   "cell_type": "code",
   "execution_count": 4,
   "id": "f82c9bc7-2cfa-4b93-972a-93f72c9cd07e",
   "metadata": {},
   "outputs": [],
   "source": [
    "df1= gpd.read_parquet('/gpfs/data1/vclgp/xiongl/MatheusWork/result/gedi_amazon_2019.parquet')\n",
    "df2= gpd.read_parquet('/gpfs/data1/vclgp/xiongl/MatheusWork/result/gedi_amazon_2022.parquet')"
   ]
  },
  {
   "cell_type": "code",
   "execution_count": 5,
   "id": "9f550949-70a5-4385-9e87-ed262db3cd60",
   "metadata": {},
   "outputs": [
    {
     "data": {
      "text/html": [
       "<div>\n",
       "<style scoped>\n",
       "    .dataframe tbody tr th:only-of-type {\n",
       "        vertical-align: middle;\n",
       "    }\n",
       "\n",
       "    .dataframe tbody tr th {\n",
       "        vertical-align: top;\n",
       "    }\n",
       "\n",
       "    .dataframe thead th {\n",
       "        text-align: right;\n",
       "    }\n",
       "</style>\n",
       "<table border=\"1\" class=\"dataframe\">\n",
       "  <thead>\n",
       "    <tr style=\"text-align: right;\">\n",
       "      <th></th>\n",
       "      <th>rh_098</th>\n",
       "      <th>lon_lowestmode</th>\n",
       "      <th>lat_lowestmode</th>\n",
       "      <th>delta_time</th>\n",
       "      <th>shot_number</th>\n",
       "      <th>quality_flag</th>\n",
       "      <th>geometry</th>\n",
       "    </tr>\n",
       "    <tr>\n",
       "      <th>h3_12</th>\n",
       "      <th></th>\n",
       "      <th></th>\n",
       "      <th></th>\n",
       "      <th></th>\n",
       "      <th></th>\n",
       "      <th></th>\n",
       "      <th></th>\n",
       "    </tr>\n",
       "  </thead>\n",
       "  <tbody>\n",
       "    <tr>\n",
       "      <th>8c8a0cc03d94dff</th>\n",
       "      <td>25.879999</td>\n",
       "      <td>-64.314695</td>\n",
       "      <td>-6.797325</td>\n",
       "      <td>4.693665e+07</td>\n",
       "      <td>30651100100059972</td>\n",
       "      <td>True</td>\n",
       "      <td>POINT (-64.31470 -6.79732)</td>\n",
       "    </tr>\n",
       "    <tr>\n",
       "      <th>8c8a0cc03d963ff</th>\n",
       "      <td>26.330000</td>\n",
       "      <td>-64.314397</td>\n",
       "      <td>-6.796905</td>\n",
       "      <td>4.693665e+07</td>\n",
       "      <td>30651100100059973</td>\n",
       "      <td>True</td>\n",
       "      <td>POINT (-64.31440 -6.79690)</td>\n",
       "    </tr>\n",
       "    <tr>\n",
       "      <th>8c8a0cc03d925ff</th>\n",
       "      <td>20.370001</td>\n",
       "      <td>-64.314098</td>\n",
       "      <td>-6.796484</td>\n",
       "      <td>4.693665e+07</td>\n",
       "      <td>30651100100059974</td>\n",
       "      <td>True</td>\n",
       "      <td>POINT (-64.31410 -6.79648)</td>\n",
       "    </tr>\n",
       "    <tr>\n",
       "      <th>8c8a0cc0236edff</th>\n",
       "      <td>18.580000</td>\n",
       "      <td>-64.313799</td>\n",
       "      <td>-6.796067</td>\n",
       "      <td>4.693665e+07</td>\n",
       "      <td>30651100100059975</td>\n",
       "      <td>True</td>\n",
       "      <td>POINT (-64.31380 -6.79607)</td>\n",
       "    </tr>\n",
       "    <tr>\n",
       "      <th>8c8a0cc023451ff</th>\n",
       "      <td>23.450001</td>\n",
       "      <td>-64.313501</td>\n",
       "      <td>-6.795646</td>\n",
       "      <td>4.693665e+07</td>\n",
       "      <td>30651100100059976</td>\n",
       "      <td>True</td>\n",
       "      <td>POINT (-64.31350 -6.79565)</td>\n",
       "    </tr>\n",
       "  </tbody>\n",
       "</table>\n",
       "</div>"
      ],
      "text/plain": [
       "                    rh_098  lon_lowestmode  lat_lowestmode    delta_time  \\\n",
       "h3_12                                                                      \n",
       "8c8a0cc03d94dff  25.879999      -64.314695       -6.797325  4.693665e+07   \n",
       "8c8a0cc03d963ff  26.330000      -64.314397       -6.796905  4.693665e+07   \n",
       "8c8a0cc03d925ff  20.370001      -64.314098       -6.796484  4.693665e+07   \n",
       "8c8a0cc0236edff  18.580000      -64.313799       -6.796067  4.693665e+07   \n",
       "8c8a0cc023451ff  23.450001      -64.313501       -6.795646  4.693665e+07   \n",
       "\n",
       "                       shot_number  quality_flag                    geometry  \n",
       "h3_12                                                                         \n",
       "8c8a0cc03d94dff  30651100100059972          True  POINT (-64.31470 -6.79732)  \n",
       "8c8a0cc03d963ff  30651100100059973          True  POINT (-64.31440 -6.79690)  \n",
       "8c8a0cc03d925ff  30651100100059974          True  POINT (-64.31410 -6.79648)  \n",
       "8c8a0cc0236edff  30651100100059975          True  POINT (-64.31380 -6.79607)  \n",
       "8c8a0cc023451ff  30651100100059976          True  POINT (-64.31350 -6.79565)  "
      ]
     },
     "execution_count": 5,
     "metadata": {},
     "output_type": "execute_result"
    }
   ],
   "source": [
    "df1.head()"
   ]
  },
  {
   "cell_type": "code",
   "execution_count": 6,
   "id": "ef16fcc2-d695-4b48-8c33-21672552a4d2",
   "metadata": {},
   "outputs": [
    {
     "data": {
      "text/html": [
       "<div>\n",
       "<style scoped>\n",
       "    .dataframe tbody tr th:only-of-type {\n",
       "        vertical-align: middle;\n",
       "    }\n",
       "\n",
       "    .dataframe tbody tr th {\n",
       "        vertical-align: top;\n",
       "    }\n",
       "\n",
       "    .dataframe thead th {\n",
       "        text-align: right;\n",
       "    }\n",
       "</style>\n",
       "<table border=\"1\" class=\"dataframe\">\n",
       "  <thead>\n",
       "    <tr style=\"text-align: right;\">\n",
       "      <th></th>\n",
       "      <th>rh_098</th>\n",
       "      <th>lon_lowestmode</th>\n",
       "      <th>lat_lowestmode</th>\n",
       "      <th>delta_time</th>\n",
       "      <th>shot_number</th>\n",
       "      <th>quality_flag</th>\n",
       "      <th>geometry</th>\n",
       "    </tr>\n",
       "    <tr>\n",
       "      <th>h3_13</th>\n",
       "      <th></th>\n",
       "      <th></th>\n",
       "      <th></th>\n",
       "      <th></th>\n",
       "      <th></th>\n",
       "      <th></th>\n",
       "      <th></th>\n",
       "    </tr>\n",
       "  </thead>\n",
       "  <tbody>\n",
       "    <tr>\n",
       "      <th>8d8a0cc03d948bf</th>\n",
       "      <td>25.879999</td>\n",
       "      <td>-64.314695</td>\n",
       "      <td>-6.797325</td>\n",
       "      <td>4.693665e+07</td>\n",
       "      <td>30651100100059972</td>\n",
       "      <td>True</td>\n",
       "      <td>POINT (-64.31470 -6.79732)</td>\n",
       "    </tr>\n",
       "    <tr>\n",
       "      <th>8d8a0cc03d963bf</th>\n",
       "      <td>26.330000</td>\n",
       "      <td>-64.314397</td>\n",
       "      <td>-6.796905</td>\n",
       "      <td>4.693665e+07</td>\n",
       "      <td>30651100100059973</td>\n",
       "      <td>True</td>\n",
       "      <td>POINT (-64.31440 -6.79690)</td>\n",
       "    </tr>\n",
       "    <tr>\n",
       "      <th>8d8a0cc03d924bf</th>\n",
       "      <td>20.370001</td>\n",
       "      <td>-64.314098</td>\n",
       "      <td>-6.796484</td>\n",
       "      <td>4.693665e+07</td>\n",
       "      <td>30651100100059974</td>\n",
       "      <td>True</td>\n",
       "      <td>POINT (-64.31410 -6.79648)</td>\n",
       "    </tr>\n",
       "    <tr>\n",
       "      <th>8d8a0cc0236ed3f</th>\n",
       "      <td>18.580000</td>\n",
       "      <td>-64.313799</td>\n",
       "      <td>-6.796067</td>\n",
       "      <td>4.693665e+07</td>\n",
       "      <td>30651100100059975</td>\n",
       "      <td>True</td>\n",
       "      <td>POINT (-64.31380 -6.79607)</td>\n",
       "    </tr>\n",
       "    <tr>\n",
       "      <th>8d8a0cc0234503f</th>\n",
       "      <td>23.450001</td>\n",
       "      <td>-64.313501</td>\n",
       "      <td>-6.795646</td>\n",
       "      <td>4.693665e+07</td>\n",
       "      <td>30651100100059976</td>\n",
       "      <td>True</td>\n",
       "      <td>POINT (-64.31350 -6.79565)</td>\n",
       "    </tr>\n",
       "  </tbody>\n",
       "</table>\n",
       "</div>"
      ],
      "text/plain": [
       "                    rh_098  lon_lowestmode  lat_lowestmode    delta_time  \\\n",
       "h3_13                                                                      \n",
       "8d8a0cc03d948bf  25.879999      -64.314695       -6.797325  4.693665e+07   \n",
       "8d8a0cc03d963bf  26.330000      -64.314397       -6.796905  4.693665e+07   \n",
       "8d8a0cc03d924bf  20.370001      -64.314098       -6.796484  4.693665e+07   \n",
       "8d8a0cc0236ed3f  18.580000      -64.313799       -6.796067  4.693665e+07   \n",
       "8d8a0cc0234503f  23.450001      -64.313501       -6.795646  4.693665e+07   \n",
       "\n",
       "                       shot_number  quality_flag                    geometry  \n",
       "h3_13                                                                         \n",
       "8d8a0cc03d948bf  30651100100059972          True  POINT (-64.31470 -6.79732)  \n",
       "8d8a0cc03d963bf  30651100100059973          True  POINT (-64.31440 -6.79690)  \n",
       "8d8a0cc03d924bf  30651100100059974          True  POINT (-64.31410 -6.79648)  \n",
       "8d8a0cc0236ed3f  30651100100059975          True  POINT (-64.31380 -6.79607)  \n",
       "8d8a0cc0234503f  30651100100059976          True  POINT (-64.31350 -6.79565)  "
      ]
     },
     "execution_count": 6,
     "metadata": {},
     "output_type": "execute_result"
    }
   ],
   "source": [
    "df1r13 = df1.h3.geo_to_h3(13)\n",
    "df2r13 = df2.h3.geo_to_h3(13)\n",
    "df1r13.head()"
   ]
  },
  {
   "cell_type": "code",
   "execution_count": 7,
   "id": "6a76385f-280d-4408-8c23-a2e1d2ca8f8f",
   "metadata": {},
   "outputs": [
    {
     "name": "stdout",
     "output_type": "stream",
     "text": [
      "2732823\n"
     ]
    }
   ],
   "source": [
    "print(len(df1r13))\n",
    "# group by h3_13\n",
    "# df_2019 = df1r13['rh_098'].groupby(df1r13.index).mean()\n",
    "# df_2022 = df2r13['rh_098'].groupby(df2r13.index).mean()\n",
    "# result = pd.merge(df_2019, df_2022, left_index=True, right_index=True)\n",
    "# len(result)"
   ]
  },
  {
   "cell_type": "code",
   "execution_count": 10,
   "id": "c0be57ed-f2fb-442b-8a72-f76dc86a3847",
   "metadata": {},
   "outputs": [
    {
     "data": {
      "text/plain": [
       "4049"
      ]
     },
     "execution_count": 10,
     "metadata": {},
     "output_type": "execute_result"
    }
   ],
   "source": [
    "result = pd.merge(df1r13, df2r13, left_index=True, right_index=True)\n",
    "len(result)"
   ]
  },
  {
   "cell_type": "code",
   "execution_count": 11,
   "id": "7faa546c-27f2-4c16-bd54-102369830968",
   "metadata": {},
   "outputs": [],
   "source": [
    "result['growth'] = result['rh_098_y'] - result['rh_098_x']\n",
    "result['percent'] =  result['growth']/ result['rh_098_x'] * 100\n",
    "result['decrease_flag_50'] = result['percent'] < -50\n",
    "die = result[result['percent'] < -50]"
   ]
  },
  {
   "cell_type": "code",
   "execution_count": 12,
   "id": "6d79282a-a163-4c43-98e8-87e51ea8d4b7",
   "metadata": {},
   "outputs": [
    {
     "data": {
      "text/plain": [
       "<Axes: >"
      ]
     },
     "execution_count": 12,
     "metadata": {},
     "output_type": "execute_result"
    },
    {
     "data": {
      "image/png": "[encoded data removed]",
      "text/plain": [
       "<Figure size 640x480 with 1 Axes>"
      ]
     },
     "metadata": {},
     "output_type": "display_data"
    }
   ],
   "source": [
    "die['growth'].hist(bins=10)"
   ]
  },
  {
   "cell_type": "code",
   "execution_count": 13,
   "id": "78901c78-896c-4b8b-b3a8-c9b453da5eab",
   "metadata": {},
   "outputs": [
    {
     "data": {
      "text/plain": [
       "58"
      ]
     },
     "execution_count": 13,
     "metadata": {},
     "output_type": "execute_result"
    }
   ],
   "source": [
    "len(die)"
   ]
  },
  {
   "cell_type": "code",
   "execution_count": null,
   "id": "e553bc15-8d32-4f24-b826-8ffa2c55d7cc",
   "metadata": {},
   "outputs": [],
   "source": [
    "die.head()"
   ]
  },
  {
   "cell_type": "code",
   "execution_count": 41,
   "id": "f1de5b97-5966-4334-8522-fb19fe1389b6",
   "metadata": {},
   "outputs": [],
   "source": [
    "#die.to_parquet('die_r13.parquet')"
   ]
  },
  {
   "cell_type": "code",
   "execution_count": 14,
   "id": "dfa840cf-ebae-445a-b2a6-4fa5a0699621",
   "metadata": {},
   "outputs": [
    {
     "name": "stdout",
     "output_type": "stream",
     "text": [
      "                 rh_098  lon_lowestmode  lat_lowestmode         shot_number  \\\n",
      "h3_13                                                                         \n",
      "8d8a03ab1916b3f   10.55      -62.996739       -6.644169  200260800100063425   \n",
      "8d8a03ab1916b3f   30.26      -62.996771       -6.644162   19421100400244745   \n",
      "\n",
      "                 quality_flag                    geometry  \n",
      "h3_13                                                      \n",
      "8d8a03ab1916b3f          True  POINT (-62.99674 -6.64417)  \n",
      "8d8a03ab1916b3f          True  POINT (-62.99677 -6.64416)  \n",
      "                    rh_098  lon_lowestmode  lat_lowestmode  \\\n",
      "h3_13                                                        \n",
      "8d8a08245ae0bbf  12.410000      -64.910455       -4.944558   \n",
      "8d8a08245ae0bbf  25.809999      -64.910456       -4.944548   \n",
      "\n",
      "                        shot_number  quality_flag                    geometry  \n",
      "h3_13                                                                          \n",
      "8d8a08245ae0bbf  215901100400245747          True  POINT (-64.91045 -4.94456)  \n",
      "8d8a08245ae0bbf   42481100400245297          True  POINT (-64.91046 -4.94455)  \n"
     ]
    }
   ],
   "source": [
    "for index, row in die[:2].iterrows():\n",
    "    shots_in = gdfh3.loc[index]\n",
    "    print(shots_in .head())"
   ]
  },
  {
   "cell_type": "code",
   "execution_count": null,
   "id": "113d9977-3224-4905-9fb5-55d0d918ef51",
   "metadata": {},
   "outputs": [
    {
     "name": "stdout",
     "output_type": "stream",
     "text": [
      "shotnumber2wave.py 200260800100063425 figs_r13 8d8a03ab1916b3f > processing.txt\n",
      "shotnumber2wave.py 19421100400244745 figs_r13 8d8a03ab1916b3f > processing.txt\n",
      "shotnumber2wave.py 215901100400245747 figs_r13 8d8a08245ae0bbf > processing.txt\n",
      "shotnumber2wave.py 42481100400245297 figs_r13 8d8a08245ae0bbf > processing.txt\n",
      "shotnumber2wave.py 41871100400240544 figs_r13 8d8a0d029d640ff > processing.txt\n",
      "shotnumber2wave.py 225361100400297710 figs_r13 8d8a0d029d640ff > processing.txt\n"
     ]
    }
   ],
   "source": [
    "for index, row in die.iterrows():\n",
    "    shots_in = gdfh3.loc[index]\n",
    "    for s_index, s_row in shots_in.iterrows():\n",
    "            #print(s_index)\n",
    "            # Constructing the command as a string\n",
    "            command = f\"shotnumber2wave.py {s_row['shot_number']} figs_r13 {s_index} > processing.txt\"\n",
    "            print(command)\n",
    "            # Running the command using the !python shell command\n",
    "            !python {command}"
   ]
  },
  {
   "cell_type": "code",
   "execution_count": null,
   "id": "e5d50e47-f602-47a0-8b9d-f9925de25f99",
   "metadata": {},
   "outputs": [],
   "source": []
  },
  {
   "cell_type": "code",
   "execution_count": null,
   "id": "1977cc92-b9a7-4ba7-8cdb-ede7ac1a13e8",
   "metadata": {},
   "outputs": [],
   "source": []
  }
 ],
 "metadata": {
  "kernelspec": {
   "display_name": "Python 3 (ipykernel)",
   "language": "python",
   "name": "python3"
  },
  "language_info": {
   "codemirror_mode": {
    "name": "ipython",
    "version": 3
   },
   "file_extension": ".py",
   "mimetype": "text/x-python",
   "name": "python",
   "nbconvert_exporter": "python",
   "pygments_lexer": "ipython3",
   "version": "3.11.4"
  }
 },
 "nbformat": 4,
 "nbformat_minor": 5
}
